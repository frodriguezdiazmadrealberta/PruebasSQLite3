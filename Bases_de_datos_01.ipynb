{
  "nbformat": 4,
  "nbformat_minor": 0,
  "metadata": {
    "colab": {
      "provenance": [],
      "authorship_tag": "ABX9TyMQ9oYyY4sJd8WVsDwLcLNC",
      "include_colab_link": true
    },
    "kernelspec": {
      "name": "python3",
      "display_name": "Python 3"
    },
    "language_info": {
      "name": "python"
    }
  },
  "cells": [
    {
      "cell_type": "markdown",
      "metadata": {
        "id": "view-in-github",
        "colab_type": "text"
      },
      "source": [
        "<a href=\"https://colab.research.google.com/github/frodriguezdiazmadrealberta/PruebasSQLite3/blob/main/Bases_de_datos_01.ipynb\" target=\"_parent\"><img src=\"https://colab.research.google.com/assets/colab-badge.svg\" alt=\"Open In Colab\"/></a>"
      ]
    },
    {
      "cell_type": "code",
      "execution_count": null,
      "metadata": {
        "colab": {
          "base_uri": "https://localhost:8080/"
        },
        "id": "zqLu4xC2BS1j",
        "outputId": "46753287-6869-42de-f9ad-65c6b739ec2c"
      },
      "outputs": [
        {
          "output_type": "stream",
          "name": "stdout",
          "text": [
            "('Anne with an E', 3, 8.4)\n",
            "('Stranger Things', 3, 8.8)\n",
            "('Friends', 10, 8.9)\n"
          ]
        }
      ],
      "source": [
        "# Importar módulo sqlite3\n",
        "import sqlite3\n",
        "\n",
        "# Crear un objeto de conexión\n",
        "conexion = sqlite3.connect(\"netflix.db\")\n",
        "\n",
        "# Abrir un cursor en la conexión\n",
        "cursor = conexion.cursor()\n",
        "\n",
        "# Creamos la tabla series\n",
        "cursor.execute(\"CREATE TABLE IF NOT EXISTS series (id_serie INTEGER, nombre TEXT, ntemp INTEGER, puntuacion REAL)\")\n",
        "\"\"\"\n",
        "contador=1\n",
        "\n",
        "# Insertamos los 5 registros de la tabla\n",
        "cursor.execute(\"INSERT INTO series (id_serie, nombre, ntemp, puntuacion) VALUES (?,?,?,?)\",(contador, \"Stranger Things\", 3, 8.8))\n",
        "contador+=1\n",
        "cursor.execute(\"INSERT INTO series (id_serie, nombre, ntemp, puntuacion) VALUES (?,?,?,?)\",(contador, \"Anne with an E\", 3, 8.4))\n",
        "contador+=1\n",
        "cursor.execute(\"INSERT INTO series (id_serie, nombre, ntemp, puntuacion) VALUES (?,?,?,?)\",(contador, \"Friends\", 10, 8.9))\n",
        "contador+=1\n",
        "cursor.execute(\"INSERT INTO series (id_serie, nombre, ntemp, puntuacion) VALUES (?,?,?,?)\",(contador, \"Riverdale\", 5, 6.8))\n",
        "contador+=1\n",
        "cursor.execute(\"INSERT INTO series (id_serie, nombre, ntemp, puntuacion) VALUES (?,?,?,?)\",(contador, \"The Umbrella Academy\", 2, 7.9))\n",
        "contador+=1\n",
        "\n",
        "# Guardamos los cambios realizados en la BD\n",
        "conexion.commit()\n",
        "\"\"\"\n",
        "\n",
        "cursor.execute(\"SELECT nombre,ntemp,puntuacion FROM series WHERE puntuacion>8 ORDER BY puntuacion\")\n",
        "\n",
        "resultados=cursor.fetchall()\n",
        "\n",
        "for r in resultados:\n",
        "  print(r)\n",
        "\n",
        "# Cerrar el cursor\n",
        "cursor.close()\n",
        "\n",
        "# Cerrar la conexión\n",
        "conexion.close()\n"
      ]
    }
  ]
}