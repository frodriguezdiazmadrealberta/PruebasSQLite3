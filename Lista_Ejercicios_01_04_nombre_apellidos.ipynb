{
  "nbformat": 4,
  "nbformat_minor": 0,
  "metadata": {
    "colab": {
      "provenance": [],
      "authorship_tag": "ABX9TyP8sDkegtsAwiYQDoDwPQ4i",
      "include_colab_link": true
    },
    "kernelspec": {
      "name": "python3",
      "display_name": "Python 3"
    },
    "language_info": {
      "name": "python"
    }
  },
  "cells": [
    {
      "cell_type": "markdown",
      "metadata": {
        "id": "view-in-github",
        "colab_type": "text"
      },
      "source": [
        "<a href=\"https://colab.research.google.com/github/frodriguezdiazmadrealberta/PruebasSQLite3/blob/main/Lista_Ejercicios_01_04_nombre_apellidos.ipynb\" target=\"_parent\"><img src=\"https://colab.research.google.com/assets/colab-badge.svg\" alt=\"Open In Colab\"/></a>"
      ]
    },
    {
      "cell_type": "code",
      "execution_count": null,
      "metadata": {
        "colab": {
          "base_uri": "https://localhost:8080/"
        },
        "id": "MKv7UDGKkH7l",
        "outputId": "8a9fa259-1de2-45ba-cb95-fbe268b5be5d"
      },
      "outputs": [
        {
          "output_type": "stream",
          "name": "stdout",
          "text": [
            "Itroduzca su nombre: 2\n",
            "Itroduzca su primer apellido: 5\n",
            "Itroduzca su segundo apellido: 8\n",
            "Hola\n",
            "Adiós\n"
          ]
        }
      ],
      "source": [
        "# El programa pide el nombre y apellidos en variables separadas\n",
        "# y queremos mostrar por pantalla el nombre y apellidos juntos\n",
        "# Félix Rodríguez Díaz - octubre 2022\n",
        "\n",
        "# El usuario introduce el nombre\n",
        "nombre=input(\"Itroduzca su nombre: \")\n",
        "apellido1=input(\"Itroduzca su primer apellido: \")\n",
        "apellido2=input(\"Itroduzca su segundo apellido: \")\n",
        "\n",
        "# Mostramos por pantalla con un solo print la información\n",
        "print(\"Su nombre completo es:\\n\"+nombre,apellido1,apellido2)\n"
      ]
    }
  ]
}